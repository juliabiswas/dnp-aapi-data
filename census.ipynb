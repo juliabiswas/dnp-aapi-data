{
  "cells": [
    {
      "cell_type": "code",
      "execution_count": 1,
      "metadata": {
        "id": "gYWOXvW-U7rF",
        "colab": {
          "base_uri": "https://localhost:8080/"
        },
        "outputId": "7f12dd03-e03d-4ac1-a4a4-0f9679534573"
      },
      "outputs": [
        {
          "output_type": "stream",
          "name": "stdout",
          "text": [
            "Mounted at /content/drive\n"
          ]
        }
      ],
      "source": [
        "from google.colab import drive\n",
        "drive.mount('/content/drive')"
      ]
    },
    {
      "cell_type": "code",
      "execution_count": 2,
      "metadata": {
        "id": "2C9XiNqiibIG"
      },
      "outputs": [],
      "source": [
        "import pandas as pd\n",
        "import numpy as np\n",
        "import matplotlib.pyplot as plt\n",
        "import seaborn as sns\n",
        "import statistics\n",
        "import math\n",
        "\n",
        "import requests\n",
        "import json"
      ]
    },
    {
      "cell_type": "code",
      "execution_count": 3,
      "metadata": {
        "id": "GoKfe2h2icXU"
      },
      "outputs": [],
      "source": [
        "#constants\n",
        "weight = \"PWGTP\"\n",
        "housing_identifier = \"SERIALNO\"\n",
        "person_identifier = \"SPORDER\"\n",
        "lim = \"limiter\""
      ]
    },
    {
      "cell_type": "code",
      "execution_count": 4,
      "metadata": {
        "id": "Dha9-i0uxQ6q"
      },
      "outputs": [],
      "source": [
        "def import_census_data(variables, target, year, limiters, ca_limit, drop): #acs data\n",
        "  '''\n",
        "  limiters: specified values to limit data requested\n",
        "  '''\n",
        "\n",
        "  vars = variables[:]\n",
        "\n",
        "  base_request = \"https://api.census.gov/data/\" + year + \"/acs/acs1/pums?get=\"\n",
        "  base_request += weight + \",\" + target\n",
        "  base_request += \",\" + housing_identifier + \",\" + person_identifier\n",
        "  request = base_request\n",
        "\n",
        "  #remove base vars\n",
        "  vars.remove(target)\n",
        "  vars.remove(weight)\n",
        "  vars.remove(housing_identifier)\n",
        "  vars.remove(person_identifier)\n",
        "\n",
        "  for v in drop:\n",
        "    vars.remove(v)\n",
        "\n",
        "  dfs = []\n",
        "\n",
        "  for i in range(len(limiters)):\n",
        "    l = limiters[i]\n",
        "    request += l\n",
        "\n",
        "    if ca_limit:\n",
        "      request += \"&ucgid=0400000US06\"\n",
        "\n",
        "    #get target/weight/ids\n",
        "    response = requests.get(request)\n",
        "    json_data = json.dumps(response.json())\n",
        "    df = pd.read_json(json_data)\n",
        "    df = df.rename(columns=df.iloc[0]).loc[1:].reset_index()\n",
        "    df = df[[target, weight, housing_identifier, person_identifier]]\n",
        "\n",
        "    df[lim] = i\n",
        "\n",
        "    dfs.append(df)\n",
        "\n",
        "  data = pd.concat(dfs, ignore_index=True)\n",
        "\n",
        "  target_col = data[target]\n",
        "  weight_col = data[weight]\n",
        "  housing_identifier_col = data[housing_identifier]\n",
        "  person_identifier_col = data[person_identifier]\n",
        "  lim_col = data[lim]\n",
        "\n",
        "  #requesting all data\n",
        "  curr = 0\n",
        "  while curr < len(vars):\n",
        "    data, curr = request_vars_and_merge(vars, data, base_request, limiters, target,\n",
        "                                        4, curr, target_col, weight_col,\n",
        "                                        housing_identifier_col, person_identifier_col,\n",
        "                                        lim_col, ca_limit)\n",
        "\n",
        "  data.drop(lim,axis=1,inplace=True)\n",
        "  data.to_csv('/content/drive/My Drive/data.csv', index=False) #save to csv\n",
        "\n",
        "  return data"
      ]
    },
    {
      "cell_type": "code",
      "execution_count": 5,
      "metadata": {
        "id": "V2CZsx5b07nS"
      },
      "outputs": [],
      "source": [
        "def request_vars_and_merge(vars, df, base_request, limiters, target, num_vars, curr,\n",
        "                           target_col, weight_col, housing_identifier_col,\n",
        "                           person_identifier_col, lim_col, ca_limit):\n",
        "  '''\n",
        "  df: existing df\n",
        "  base_request: request for weight, target, & identifiers\n",
        "  limiter: any limiters on the data requested (e.g. state)\n",
        "  target: target variable\n",
        "  num_vars: vars in base_request\n",
        "  target_col: target var data\n",
        "  weight_col: weights\n",
        "  housing_identifier_col: housing ids\n",
        "  person_identifier_col: person ids within a household\n",
        "  '''\n",
        "\n",
        "  #get new vars\n",
        "  new_df, curr = request_vars(vars, base_request, limiters, target, num_vars,\n",
        "                              curr, weight_col, ca_limit)\n",
        "  new_df.loc[:,target] = target_col\n",
        "  new_df.loc[:,weight] = weight_col\n",
        "  new_df.loc[:,housing_identifier] = housing_identifier_col\n",
        "  new_df.loc[:,person_identifier] = person_identifier_col\n",
        "  new_df.loc[:,lim] = lim_col\n",
        "\n",
        "  #merge with existing df\n",
        "  df = pd.merge(df, new_df, on=[housing_identifier, person_identifier, weight,\n",
        "                                target, lim])\n",
        "  df.drop_duplicates(keep='first', inplace=True, ignore_index=True)\n",
        "\n",
        "  return df, curr"
      ]
    },
    {
      "cell_type": "code",
      "execution_count": 6,
      "metadata": {
        "id": "KG2UXB1A2wEf"
      },
      "outputs": [],
      "source": [
        "def request_vars(vars, base_request, limiters, target, num_vars, curr,\n",
        "                 weight_col, ca_limit):\n",
        "  #request data\n",
        "  request = base_request\n",
        "\n",
        "  #create request\n",
        "  while num_vars < 50 and curr < len(vars):\n",
        "    request += ','+vars[curr]\n",
        "    curr += 1\n",
        "    num_vars += 1\n",
        "\n",
        "  dfs = []\n",
        "\n",
        "  for i in range(len(limiters)):\n",
        "    l = limiters[i]\n",
        "    curr_request = request+ l\n",
        "\n",
        "    if ca_limit:\n",
        "      curr_request += \"&ucgid=0400000US06\"\n",
        "\n",
        "    #get target/weight/ids\n",
        "    response = requests.get(curr_request)\n",
        "    json_data = json.dumps(response.json())\n",
        "    df = pd.read_json(json_data)\n",
        "    df = df.rename(columns=df.iloc[0]).loc[1:].reset_index(drop=True)\n",
        "\n",
        "    df[lim] = i\n",
        "\n",
        "    dfs.append(df)\n",
        "\n",
        "  new_df = pd.concat(dfs, ignore_index=True)\n",
        "\n",
        "  #there are no missing values, checked with print(new_df.isna().sum())\n",
        "\n",
        "  #drop identifiers\n",
        "  new_df.drop([housing_identifier, person_identifier, lim],axis=1,inplace=True)\n",
        "\n",
        "  #converting N (meaning N/A) to 0, have individually checked each var to confirm this is true\n",
        "  new_df.replace('N', 0, inplace = True)\n",
        "\n",
        "  #indp = based on industry codes, naicsp = based on NAICS codes (indp is\n",
        "  #derived from naicsp and is less detailed to protect individual respondents)\n",
        "  #indp also has higher correlation with income so choosing to keep indp over naicsp\n",
        "  if \"NAICSP\" in new_df.columns:\n",
        "    new_df.drop(\"NAICSP\", axis=1, inplace=True)\n",
        "\n",
        "  #only one unique value, don't need\n",
        "  if \"ADJINC\" in new_df.columns:\n",
        "    new_df.drop(\"ADJINC\", axis=1, inplace=True)\n",
        "  if \"ADJHSG\" in new_df.columns:\n",
        "    new_df.drop(\"ADJHSG\", axis=1, inplace=True)\n",
        "\n",
        "  #recode SOCP\n",
        "  if \"SOCP\" in new_df.columns:\n",
        "    new_df[\"SOCP\"] = recode(new_df, \"SOCP\")\n",
        "\n",
        "  new_df = new_df.astype(int)\n",
        "\n",
        "  #pearson correlation coefficient analysis w target (PINCP)\n",
        "  threshold = 0.2\n",
        "  correlations = target_corr(new_df, target, weight)\n",
        "  features = correlations[correlations>=threshold]\n",
        "  print(\"selected features:\")\n",
        "  print(features)\n",
        "\n",
        "  #fod1p/fod2p have same info but fod2p doesn't have a high enough correlation so already dropped\n",
        "\n",
        "  #filter new_df\n",
        "  new_df = new_df[features.index]\n",
        "  return new_df, curr"
      ]
    },
    {
      "cell_type": "code",
      "execution_count": 7,
      "metadata": {
        "id": "-pgxu72DPJfo"
      },
      "outputs": [],
      "source": [
        "def recode(df, col):\n",
        "  '''\n",
        "  returns recoded col\n",
        "  '''\n",
        "  unique = dict(enumerate(df[col].unique()))\n",
        "  unique = dict([(value, key) for key, value in unique.items()])\n",
        "  return df[col].replace(unique)"
      ]
    },
    {
      "cell_type": "code",
      "execution_count": 8,
      "metadata": {
        "id": "BLIGhJBBTR4M"
      },
      "outputs": [],
      "source": [
        "def mean(x, w):\n",
        "  '''weighted mean'''\n",
        "  return np.sum(x.astype(int) * w) / np.sum(w)\n",
        "\n",
        "def cov(x, y, w):\n",
        "  '''weighted covariance'''\n",
        "  return np.sum(w * (x.astype(int) - int(mean(x, w))) * (y - mean(y, w))) / np.sum(w)\n",
        "\n",
        "def corr(x, y, w):\n",
        "  '''weighted correlation'''\n",
        "  cov_xy = cov(x, y, w)\n",
        "  cov_xx = cov(x, x, w)\n",
        "  cov_yy = cov(y, y, w)\n",
        "\n",
        "  if np.isclose(cov_xx, 0.0) or np.isclose(cov_yy, 0.0):\n",
        "    #for some categorical & characteristics that are the same for everyone\n",
        "    #(e.g. state if called with ca_limit = True)\n",
        "    print(x)\n",
        "    return 0.0\n",
        "\n",
        "  result = cov_xy / np.sqrt(cov_xx * cov_yy)\n",
        "  return result\n",
        "\n",
        "def target_corr(df, target, weight):\n",
        "  '''\n",
        "  returns new df with index as col names and value as correlation with target\n",
        "  '''\n",
        "  cols = df.columns\n",
        "  cols = cols.drop([target, weight])\n",
        "\n",
        "  l = len(cols)-1\n",
        "  w = df[weight].astype(int)\n",
        "\n",
        "  results = []\n",
        "  for col in cols:\n",
        "    results.append(corr(df[col], df[target], df[weight]))\n",
        "\n",
        "  results = pd.DataFrame(results, index = cols, columns=[\"corr\"])\n",
        "\n",
        "  results = results[\"corr\"].sort_values(ascending=False)[1:]\n",
        "  return results"
      ]
    },
    {
      "cell_type": "code",
      "execution_count": 9,
      "metadata": {
        "id": "O7WlIqwW242p"
      },
      "outputs": [],
      "source": [
        "curr_vars = [\"PINCP\", \"PWGTP\", \"SERIALNO\", \"HHLDRAGEP\", \"SSIP\", \"ELEP\", \"RAC2P\",\n",
        "             \"RAC3P\", \"RAC1P\", \"RACNUM\", \"WATP\", \"MHP\", \"RETP\", \"SSP\", \"HINCP\",\n",
        "             \"RMSP\", \"INTP\", \"SEMP\", \"SMP\", \"PERNP\", \"PAP\", \"GASP\", \"WKWN\",\n",
        "             \"WAGP\", \"FULP\", \"SMOCP\", \"FINCP\", \"OIP\", \"TAXAMT\", \"CONP\",\n",
        "             \"INSP\", \"OCPIP\", \"GRNTP\", \"MRGP\", \"VALP\", \"BDSP\", \"NOC\", \"NP\",\n",
        "             \"NRC\", \"SPORDER\", \"NPF\", \"RNTP\", \"WKHP\", \"POVPIP\", \"GRPIP\",\n",
        "             \"JWMNP\", \"AGEP\", \"ADJHSG\", \"ADJINC\", \"MV\", \"FPARC\", \"DRIVESP\",\n",
        "             \"RACSOR\", \"NATIVITY\", \"JWAP\", \"HICOV\", \"PRIVCOV\", \"R60\",\n",
        "             \"RELSHIPP\", \"VACDUR\", \"MLPIK\", \"PLM\", \"VPS\", \"DEAR\", \"R18\", \"MLPJ\",\n",
        "             \"GCL\", \"STOV\", \"TEL\", \"ELEFP\", \"WATFP\", \"YOEP\", \"SMX\", \"OTHSVCEX\",\n",
        "             \"MLPCD\", \"ANC2P\", \"FHINS4C\", \"WRK\", \"POBP\", \"RACAIAN\", \"LAPTOP\",\n",
        "             \"HHT2\", \"MLPFG\", \"FOD1P\", \"FOD2P\", \"SMARTPHONE\", \"NAICSP\", \"INDP\",\n",
        "             \"WAOB\", \"SOCP\", \"GASFP\", \"HIMRKS\", \"FHINS3C\", \"FHINS5C\",\n",
        "             \"ACCESSINET\", \"HOTWAT\", \"NWLA\", \"CITWP\", \"JWTRNS\", \"REFR\", \"PSF\",\n",
        "             \"DECADE\", \"PUBCOV\", \"FULFP\", \"MRGT\", \"VACOTH\", \"BROADBND\", \"LANP\",\n",
        "             \"ANC1P\", \"TEN\", \"POWPUMA\", \"HISPEED\", \"PLMPRP\", \"CPLT\", \"YRBLT\",\n",
        "             \"DRAT\", \"NR\", \"MRGX\", \"HINS7\", \"MARHYP\", \"COMPOTHX\", \"SINK\",\n",
        "             \"MARHT\", \"SATELLITE\", \"WIF\", \"HISP\", \"MAR\", \"SCHL\", \"NWLK\", \"DPHY\",\n",
        "             \"DEYE\", \"MIGSP\", \"HHLANP\", \"PARTNER\", \"RACNH\", \"WKL\", \"VEH\",\n",
        "             \"DDRS\", \"MIGPUMA\", \"LNGI\", \"HINS2\", \"QTRBIR\", \"SFN\", \"RACBLK\",\n",
        "             \"MLPH\", \"ESR\", \"NPP\", \"DIS\", \"DIALUP\", \"HHLDRRAC1P\", \"TABLET\",\n",
        "             \"MLPB\", \"DOUT\", \"SCH\", \"RACPI\", \"POWSP\", \"ANC\", \"MIL\", \"OC\",\n",
        "             \"HUGCL\", \"RWAT\", \"HHLDRHISP\", \"HINS3\", \"RESMODE\", \"MARHW\", \"SFR\",\n",
        "             \"ESP\", \"RACASN\", \"HINS5\", \"MLPE\", \"OCCP\", \"MARHD\", \"SCHG\", \"MRGI\",\n",
        "             \"MIG\", \"HINS1\", \"MSP\", \"FER\", \"MULTG\", \"WORKSTAT\", \"MARHM\", \"KIT\",\n",
        "             \"GCR\", \"HUPARC\", \"HINS6\", \"GCM\", \"ACR\", \"HINS4\", \"PAOC\", \"RNTM\",\n",
        "             \"DRATX\", \"FS\", \"SVAL\", \"RACWHT\", \"NWAB\", \"HUPAOC\", \"R65\", \"RC\",\n",
        "             \"BATH\", \"SEX\", \"HFL\", \"WKEXREL\", \"VACS\", \"HHL\", \"SRNT\", \"NWAV\",\n",
        "             \"NWRE\", \"BLD\", \"LANX\", \"MLPA\", \"HHT\", \"DREM\", \"COW\", \"HUPAC\",\n",
        "             \"CIT\", \"AGS\", \"ENG\", \"JWRIP\", \"JWDP\", \"NOP\"]"
      ]
    },
    {
      "cell_type": "markdown",
      "source": [
        "## question 1\n",
        "### for the aapi community, does disaggregating data by ethnicity or by region rather than just by race (aapi + aa/pi) lead to better predictions of someone’s income?"
      ],
      "metadata": {
        "id": "p8TYq9W8mclL"
      }
    },
    {
      "cell_type": "code",
      "execution_count": 10,
      "metadata": {
        "id": "unTo2cmq29aB",
        "colab": {
          "base_uri": "https://localhost:8080/"
        },
        "outputId": "cce8d9d0-7fbd-4729-8bd4-39f397462288"
      },
      "outputs": [
        {
          "output_type": "stream",
          "name": "stdout",
          "text": [
            "0        6\n",
            "1        6\n",
            "2        6\n",
            "3        6\n",
            "4        6\n",
            "        ..\n",
            "79186    6\n",
            "79187    6\n",
            "79188    6\n",
            "79189    6\n",
            "79190    6\n",
            "Name: ST, Length: 79191, dtype: int64\n",
            "selected features:\n",
            "WAGP      0.918188\n",
            "WKHP      0.542990\n",
            "WKWN      0.528609\n",
            "HINCP     0.467163\n",
            "INTP      0.386412\n",
            "FINCP     0.337600\n",
            "POVPIP    0.335686\n",
            "SEMP      0.306281\n",
            "AGEP      0.258930\n",
            "JWMNP     0.204650\n",
            "Name: corr, dtype: float64\n",
            "0        0\n",
            "1        0\n",
            "2        0\n",
            "3        0\n",
            "4        0\n",
            "        ..\n",
            "79186    0\n",
            "79187    0\n",
            "79188    0\n",
            "79189    0\n",
            "79190    0\n",
            "Name: VACDUR, Length: 79191, dtype: int64\n",
            "0        6\n",
            "1        6\n",
            "2        6\n",
            "3        6\n",
            "4        6\n",
            "        ..\n",
            "79186    6\n",
            "79187    6\n",
            "79188    6\n",
            "79189    6\n",
            "79190    6\n",
            "Name: ST, Length: 79191, dtype: int64\n",
            "selected features:\n",
            "INDP     0.363757\n",
            "FOD1P    0.360684\n",
            "SOCP     0.285873\n",
            "JWAP     0.219428\n",
            "Name: corr, dtype: float64\n",
            "0        0\n",
            "1        0\n",
            "2        0\n",
            "3        0\n",
            "4        0\n",
            "        ..\n",
            "79186    0\n",
            "79187    0\n",
            "79188    0\n",
            "79189    0\n",
            "79190    0\n",
            "Name: VACOTH, Length: 79191, dtype: int64\n",
            "0        6\n",
            "1        6\n",
            "2        6\n",
            "3        6\n",
            "4        6\n",
            "        ..\n",
            "79186    6\n",
            "79187    6\n",
            "79188    6\n",
            "79189    6\n",
            "79190    6\n",
            "Name: ST, Length: 79191, dtype: int64\n",
            "selected features:\n",
            "NWLA       0.454392\n",
            "SCHL       0.444172\n",
            "POWPUMA    0.424863\n",
            "JWTRNS     0.403573\n",
            "MARHYP     0.348284\n",
            "MARHT      0.271950\n",
            "Name: corr, dtype: float64\n",
            "0        6\n",
            "1        6\n",
            "2        6\n",
            "3        6\n",
            "4        6\n",
            "        ..\n",
            "79186    6\n",
            "79187    6\n",
            "79188    6\n",
            "79189    6\n",
            "79190    6\n",
            "Name: ST, Length: 79191, dtype: int64\n",
            "selected features:\n",
            "MIL      0.364630\n",
            "MARHW    0.314572\n",
            "MARHD    0.312515\n",
            "MARHM    0.309607\n",
            "POWSP    0.250317\n",
            "HINS4    0.206540\n",
            "Name: corr, dtype: float64\n",
            "0        0\n",
            "1        0\n",
            "2        0\n",
            "3        0\n",
            "4        0\n",
            "        ..\n",
            "79186    0\n",
            "79187    0\n",
            "79188    0\n",
            "79189    0\n",
            "79190    0\n",
            "Name: VACS, Length: 79191, dtype: int64\n",
            "0        6\n",
            "1        6\n",
            "2        6\n",
            "3        6\n",
            "4        6\n",
            "        ..\n",
            "79186    6\n",
            "79187    6\n",
            "79188    6\n",
            "79189    6\n",
            "79190    6\n",
            "Name: ST, Length: 79191, dtype: int64\n",
            "selected features:\n",
            "NWAV    0.376442\n",
            "NWRE    0.369107\n",
            "JWDP    0.205956\n",
            "COW     0.201886\n",
            "Name: corr, dtype: float64\n"
          ]
        }
      ],
      "source": [
        "limiters = [\"&RACPI=1&RACASN=1\", \"&RACPI=0&RACASN=1\", \"&RACPI=1&RACASN=0\"] #all aapi\n",
        "drop = [\"RACPI\", \"RACASN\"]\n",
        "#limiters = [\"&RACPI=1&RACASN=1\", \"&RACPI=1&RACASN=0\"] #mixed + pi\n",
        "data = import_census_data(curr_vars, \"PINCP\", \"2021\", limiters, True, drop)"
      ]
    },
    {
      "cell_type": "code",
      "source": [
        "def request_data(request, limiters):\n",
        "  dfs = []\n",
        "\n",
        "  for l in limiters:\n",
        "    response = requests.get(request+l)\n",
        "    json_data = json.dumps(response.json())\n",
        "    df = pd.read_json(json_data)\n",
        "    df = df.rename(columns=df.iloc[0]).loc[1:].reset_index()\n",
        "    dfs.append(df)\n",
        "\n",
        "  return pd.concat(dfs, ignore_index=True)"
      ],
      "metadata": {
        "id": "LewCoCCI7f7T"
      },
      "execution_count": 11,
      "outputs": []
    },
    {
      "cell_type": "code",
      "source": [
        "print(data.columns)"
      ],
      "metadata": {
        "colab": {
          "base_uri": "https://localhost:8080/"
        },
        "id": "WQtXi5GIC6pL",
        "outputId": "69f23d71-74ce-4998-f75d-ccd7e0bed2df"
      },
      "execution_count": 12,
      "outputs": [
        {
          "output_type": "stream",
          "name": "stdout",
          "text": [
            "Index(['PINCP', 'PWGTP', 'SERIALNO', 'SPORDER', 'WAGP', 'WKHP', 'WKWN',\n",
            "       'HINCP', 'INTP', 'FINCP', 'POVPIP', 'SEMP', 'AGEP', 'JWMNP', 'INDP',\n",
            "       'FOD1P', 'SOCP', 'JWAP', 'NWLA', 'SCHL', 'POWPUMA', 'JWTRNS', 'MARHYP',\n",
            "       'MARHT', 'MIL', 'MARHW', 'MARHD', 'MARHM', 'POWSP', 'HINS4', 'NWAV',\n",
            "       'NWRE', 'JWDP', 'COW'],\n",
            "      dtype='object')\n"
          ]
        }
      ]
    },
    {
      "cell_type": "code",
      "source": [
        "def print_unique_vals(df, vars):\n",
        "  for col in vars:\n",
        "    print(\"col\")\n",
        "    print(df[col].value_counts())"
      ],
      "metadata": {
        "id": "19h4ewX18j-W"
      },
      "execution_count": 13,
      "outputs": []
    },
    {
      "cell_type": "code",
      "source": [
        "#understanding how race vars are determined for someone who is chinese & indian\n",
        "df = request_data(\"https://api.census.gov/data/2021/acs/acs1/pums?get=PWGTP,\" +\n",
        "                  \"SERIALNO,SPORDER,RAC1P,RAC2P,RAC3P,RACBLK\",\n",
        "                   [\"&ANC1P=706&ANC2P=615\", \"&ANC1P=615&ANC2P=706\"])\n",
        "print(df)\n",
        "print_unique_vals(df, [\"RAC1P\", \"RAC2P\", \"RAC3P\", \"RACBLK\"])\n",
        "print(df[df[\"RACBLK\"]==\"1\"])\n",
        "print_unique_vals(df[df[\"RACBLK\"]==\"1\"], [\"RAC1P\", \"RAC2P\", \"RAC3P\"])"
      ],
      "metadata": {
        "colab": {
          "base_uri": "https://localhost:8080/"
        },
        "id": "pEe5g0gg2Ssm",
        "outputId": "34f3e8bc-9dc8-4d73-ef66-fd047785a546"
      },
      "execution_count": 14,
      "outputs": [
        {
          "output_type": "stream",
          "name": "stdout",
          "text": [
            "    index PWGTP       SERIALNO SPORDER RAC1P RAC2P RAC3P RACBLK ANC1P ANC2P\n",
            "0       1    46  2021HU0982443       1     6    59   076      0   706   615\n",
            "1       2    45  2021HU0985474       3     6    59   076      0   706   615\n",
            "2       3    39  2021HU0985474       4     6    59   076      0   706   615\n",
            "3       4    54  2021HU1004233       2     6    59   076      0   706   615\n",
            "4       5    86  2021HU1031909       3     6    59   076      0   706   615\n",
            "..    ...   ...            ...     ...   ...   ...   ...    ...   ...   ...\n",
            "89     47    79  2021HU0674612       2     9    68   086      0   615   706\n",
            "90     48   273  2021HU0741053       3     6    59   076      0   615   706\n",
            "91     49   176  2021HU0814116       2     6    59   076      0   615   706\n",
            "92     50    50  2021HU0822980       1     9    68   031      1   615   706\n",
            "93     51    42  2021HU0822980       2     9    68   031      1   615   706\n",
            "\n",
            "[94 rows x 10 columns]\n",
            "col\n",
            "6    59\n",
            "9    32\n",
            "2     3\n",
            "Name: RAC1P, dtype: int64\n",
            "col\n",
            "59    52\n",
            "68    32\n",
            "38     4\n",
            "02     3\n",
            "43     2\n",
            "41     1\n",
            "Name: RAC2P, dtype: int64\n",
            "col\n",
            "076    51\n",
            "093    14\n",
            "083     5\n",
            "004     4\n",
            "031     3\n",
            "074     3\n",
            "002     3\n",
            "058     3\n",
            "005     2\n",
            "032     2\n",
            "044     1\n",
            "095     1\n",
            "010     1\n",
            "086     1\n",
            "Name: RAC3P, dtype: int64\n",
            "col\n",
            "0    78\n",
            "1    16\n",
            "Name: RACBLK, dtype: int64\n",
            "    index PWGTP       SERIALNO SPORDER RAC1P RAC2P RAC3P RACBLK ANC1P ANC2P\n",
            "8       9    60  2021HU1068647       3     9    68   083      1   706   615\n",
            "9      10    64  2021HU1068647       4     9    68   083      1   706   615\n",
            "13     14    63  2021HU1216637       1     9    68   031      1   706   615\n",
            "16     17    66  2021GQ0051610       1     9    68   074      1   706   615\n",
            "23     24    74  2021HU0237679       2     9    68   032      1   706   615\n",
            "36     37    27  2021HU0721135       1     9    68   074      1   706   615\n",
            "37     38   434  2021HU0779652       1     9    68   032      1   706   615\n",
            "60     18    84  2021HU0018532       1     2    02   002      1   615   706\n",
            "61     19    31  2021HU0018532       2     2    02   002      1   615   706\n",
            "62     20    32  2021HU0018532       3     2    02   002      1   615   706\n",
            "74     32    58  2021HU0450433       1     9    68   074      1   615   706\n",
            "75     33    43  2021HU0450433       3     9    68   083      1   615   706\n",
            "76     34    48  2021HU0450433       4     9    68   083      1   615   706\n",
            "77     35    48  2021HU0450433       5     9    68   083      1   615   706\n",
            "92     50    50  2021HU0822980       1     9    68   031      1   615   706\n",
            "93     51    42  2021HU0822980       2     9    68   031      1   615   706\n",
            "col\n",
            "9    13\n",
            "2     3\n",
            "Name: RAC1P, dtype: int64\n",
            "col\n",
            "68    13\n",
            "02     3\n",
            "Name: RAC2P, dtype: int64\n",
            "col\n",
            "083    5\n",
            "031    3\n",
            "074    3\n",
            "002    3\n",
            "032    2\n",
            "Name: RAC3P, dtype: int64\n"
          ]
        }
      ]
    },
    {
      "cell_type": "code",
      "source": [
        "#looking at \"mixture\" ancestry -- all other ancestry values are single ethnicity\n",
        "df = request_data(\"https://api.census.gov/data/2021/acs/acs1/pums?get=PWGTP,\" +\n",
        "                  \"SERIALNO,SPORDER,RAC1P,RAC2P,RAC3P\",\n",
        "                   [\"&ANC1P=995\", \"&ANC2P=995\"])\n",
        "print_unique_vals(df, [\"RAC1P\", \"RAC2P\", \"RAC3P\"])\n",
        "print(df)"
      ],
      "metadata": {
        "colab": {
          "base_uri": "https://localhost:8080/"
        },
        "id": "MRHkXsVQ7YZn",
        "outputId": "37edaac8-e9e0-4d1b-bc11-67f653aa808a"
      },
      "execution_count": 15,
      "outputs": [
        {
          "output_type": "stream",
          "name": "stdout",
          "text": [
            "col\n",
            "9    8433\n",
            "1    7669\n",
            "8    1783\n",
            "2     261\n",
            "6      45\n",
            "3      33\n",
            "7      11\n",
            "5       9\n",
            "Name: RAC1P, dtype: int64\n",
            "col\n",
            "68    8433\n",
            "01    7669\n",
            "67    1783\n",
            "02     261\n",
            "38      11\n",
            "45      11\n",
            "05       8\n",
            "16       7\n",
            "29       6\n",
            "27       6\n",
            "63       5\n",
            "43       5\n",
            "57       5\n",
            "58       4\n",
            "59       4\n",
            "28       4\n",
            "61       3\n",
            "37       3\n",
            "60       2\n",
            "48       2\n",
            "17       2\n",
            "36       2\n",
            "49       1\n",
            "42       1\n",
            "62       1\n",
            "03       1\n",
            "24       1\n",
            "09       1\n",
            "11       1\n",
            "53       1\n",
            "Name: RAC2P, dtype: int64\n",
            "col\n",
            "001    7669\n",
            "029    6912\n",
            "015    1783\n",
            "016     469\n",
            "017     283\n",
            "       ... \n",
            "008       1\n",
            "089       1\n",
            "052       1\n",
            "076       1\n",
            "048       1\n",
            "Name: RAC3P, Length: 76, dtype: int64\n",
            "       index PWGTP       SERIALNO SPORDER RAC1P RAC2P RAC3P ANC1P ANC2P\n",
            "0          1    32  2021GQ0000841       1     8    67   015   995   NaN\n",
            "1          2    81  2021GQ0001207       1     8    67   015   995   NaN\n",
            "2          3    58  2021GQ0001511       1     9    68   029   995   NaN\n",
            "3          4    44  2021GQ0001719       1     8    67   015   995   NaN\n",
            "4          5    54  2021GQ0001849       1     8    67   015   995   NaN\n",
            "...      ...   ...            ...     ...   ...   ...   ...   ...   ...\n",
            "18239   6014   161  2021HU0421459       1     9    68   064   NaN   995\n",
            "18240   6015    16  2021HU0422327       1     1    01   001   NaN   995\n",
            "18241   6016    14  2021HU0422327       2     1    01   001   NaN   995\n",
            "18242   6017    15  2021HU0422327       3     1    01   001   NaN   995\n",
            "18243   6018    16  2021HU0422327       4     1    01   001   NaN   995\n",
            "\n",
            "[18244 rows x 9 columns]\n"
          ]
        }
      ]
    },
    {
      "cell_type": "code",
      "execution_count": 16,
      "metadata": {
        "id": "NBbdpmEAAki3"
      },
      "outputs": [],
      "source": [
        "#checking relationship between specific RAC3P (ethnicity) values + income\n",
        "df = request_data(\"https://api.census.gov/data/2021/acs/acs1/pums?get=PWGTP,PINCP,SERIALNO,SPORDER&RAC3P=004&RAC3P=006&RAC3P=013\",[\"\"])\n",
        "df.drop([housing_identifier, person_identifier],axis=1,inplace=True)\n",
        "df = df.astype('int32')"
      ]
    },
    {
      "cell_type": "code",
      "execution_count": 17,
      "metadata": {
        "id": "Nxxs790rBUU7",
        "colab": {
          "base_uri": "https://localhost:8080/",
          "height": 463
        },
        "outputId": "3b9fdafb-fc26-4995-cb40-5db36d06c2de"
      },
      "outputs": [
        {
          "output_type": "display_data",
          "data": {
            "text/plain": [
              "<Figure size 640x480 with 1 Axes>"
            ],
            "image/png": "[encoded data removed]"
          },
          "metadata": {}
        }
      ],
      "source": [
        "#histogram\n",
        "unique = df['RAC3P'].unique()\n",
        "ethnicities = {6:\"filipino\",4:\"indian\",13:\"samoan\"}\n",
        "\n",
        "for val in unique:\n",
        "  new_df = df[df[\"RAC3P\"] == val]\n",
        "  plt.hist(new_df[\"PINCP\"], weights=new_df[\"PWGTP\"], label=ethnicities[val],alpha=.2)\n",
        "\n",
        "plt.legend(loc='upper right')\n",
        "plt.show()"
      ]
    },
    {
      "cell_type": "markdown",
      "source": [
        "## question 2\n",
        "\n",
        "### is it possible to predict race (and potentially, region ethnicity etc) given certain features so even if you don’t give a model race data, can it extrapolate it and build its own stereotypes?"
      ],
      "metadata": {
        "id": "4OJBJs01mo-T"
      }
    },
    {
      "cell_type": "code",
      "source": [
        "#predict race\n",
        "\n",
        "#try both (1) feature selection again and (2) q1 dataset but diff output\n",
        "data = import_census_data(curr_vars, \"RAC1P\", \"2021\", limiters, True, []) #ca_limit = True"
      ],
      "metadata": {
        "id": "CogRHNIOFEO7"
      },
      "execution_count": null,
      "outputs": []
    }
  ],
  "metadata": {
    "colab": {
      "provenance": []
    },
    "kernelspec": {
      "display_name": "Python 3",
      "name": "python3"
    },
    "language_info": {
      "name": "python"
    }
  },
  "nbformat": 4,
  "nbformat_minor": 0
}
