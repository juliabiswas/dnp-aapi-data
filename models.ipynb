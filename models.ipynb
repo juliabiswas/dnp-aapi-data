{
  "nbformat": 4,
  "nbformat_minor": 0,
  "metadata": {
    "colab": {
      "provenance": []
    },
    "kernelspec": {
      "name": "python3",
      "display_name": "Python 3"
    },
    "language_info": {
      "name": "python"
    }
  },
  "cells": [
    {
      "cell_type": "markdown",
      "source": [
        "# libraries"
      ],
      "metadata": {
        "id": "tAGCi4oA37G6"
      }
    },
    {
      "cell_type": "code",
      "execution_count": null,
      "metadata": {
        "id": "lgZCMyX933gF"
      },
      "outputs": [],
      "source": [
        "from google.colab import drive\n",
        "drive.mount('/content/drive')"
      ]
    },
    {
      "cell_type": "code",
      "source": [
        "import pandas as pd\n",
        "import numpy as np\n",
        "#import tensorflow as tf\n",
        "\n",
        "from sklearn.model_selection import train_test_split\n",
        "from sklearn.metrics import mean_absolute_error\n",
        "from sklearn.linear_model import LinearRegression\n",
        "from sklearn.tree import DecisionTreeRegressor\n",
        "from sklearn.ensemble import RandomForestRegressor"
      ],
      "metadata": {
        "id": "ntQ1vWIo390z"
      },
      "execution_count": null,
      "outputs": []
    },
    {
      "cell_type": "code",
      "source": [
        "#get dataset\n",
        "data = pd.read_csv('/content/drive/My Drive/data.csv')"
      ],
      "metadata": {
        "id": "Q4cCntCm7vIi"
      },
      "execution_count": null,
      "outputs": []
    },
    {
      "cell_type": "code",
      "source": [
        "data.head()"
      ],
      "metadata": {
        "id": "A4v1p3R982jB"
      },
      "execution_count": null,
      "outputs": []
    },
    {
      "cell_type": "code",
      "source": [
        "def evaluate_models(datasets):\n",
        "  model_results = {}\n",
        "\n",
        "  for dataset_name, dataset in datasets.items():\n",
        "    target_feature = 'INCOME'\n",
        "    X = dataset.drop([target_feature], axis=1)\n",
        "    y = dataset[target_feature]\n",
        "    sample_weights = dataset['SAMPLE WEIGHT']\n",
        "\n",
        "    X_train, X_test, y_train, y_test, sw_train, sw_test = train_test_split(\n",
        "        X, y, sample_weights, test_size=0.2, random_state=42\n",
        "    )\n",
        "    dataset_results = {}\n",
        "\n",
        "    models = {\n",
        "        'Linear Regression': LinearRegression(),\n",
        "        'Decision Tree': DecisionTreeRegressor(random_state=42),\n",
        "        'Random Forest': RandomForestRegressor(random_state=42)\n",
        "    }\n",
        "\n",
        "    for model_name, model in models.items():\n",
        "        model.fit(X_train, y_train, sample_weight=sw_train)\n",
        "        y_pred = model.predict(X_test)\n",
        "        mae = mean_absolute_error(y_test, y_pred)\n",
        "        dataset_results[model_name] = mae\n",
        "\n",
        "    model_results[dataset_name] = dataset_results\n",
        "\n",
        "  results_df = pd.DataFrame(model_results)\n",
        "  results_df = results_df.transpose()\n",
        "\n",
        "  return results_df"
      ],
      "metadata": {
        "id": "n7Z1gtX-80Pn"
      },
      "execution_count": null,
      "outputs": []
    },
    {
      "cell_type": "code",
      "source": [
        "drop = [\"RACE (OTHER)\", \"RACE\", \"ETHNICITY (OTHER)\", \"ETHNICITY\",\n",
        "        \"ETHNICITY (CENSUS)\", \"HISPANIC\", \"ID\"]\n",
        "\n",
        "none = data.drop(drop, axis=1)\n",
        "race_other = data.drop([col for col in drop if col != \"RACE (OTHER)\"], axis=1)\n",
        "race = data.drop([col for col in drop if col != \"RACE\"], axis=1)\n",
        "ethnicity_other = data.drop([col for col in drop if col != \"ETHNICITY (OTHER)\"], axis=1)\n",
        "ethnicity_census = data.drop([col for col in drop if col != \"ETHNICITY (CENSUS)\" and col != \"HISPANIC\"] , axis=1)\n",
        "ethnicity = data.drop([col for col in drop if col != \"ETHNICITY\" and col != \"HISPANIC\"] , axis=1)\n",
        "\n",
        "datasets = {\n",
        "    \"no ethnoracial data\": none,\n",
        "    \"just race (other)\": race_other,\n",
        "    \"just race\": race,\n",
        "    \"just ethnicity (other)\": ethnicity_other,\n",
        "    \"just ethnicity (census) and hispanic\": ethnicity_census,\n",
        "    \"just ethnicity and hispanic\": ethnicity\n",
        "}\n",
        "\n",
        "results = evaluate_models(datasets)"
      ],
      "metadata": {
        "id": "wu4D-ygkB3Yw"
      },
      "execution_count": null,
      "outputs": []
    }
  ]
}